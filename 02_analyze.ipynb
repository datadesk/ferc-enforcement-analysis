{
 "cells": [
  {
   "cell_type": "markdown",
   "metadata": {},
   "source": [
    "# FERC enforcement analysis\n",
    "\n",
    "By [Ben Welsh](mailto:ben.welsh@latimes.com)"
   ]
  },
  {
   "cell_type": "markdown",
   "metadata": {},
   "source": [
    "The _Los Angeles Times_ conducted an analysis of civil penalties issued by the Federal Energy Regulatory Commission for the Dec. 14, 2017 story [\"Why Wall Street gets a cut of your California power bill.\"](http://www.latimes.com/projects/a-fi-electricity-capacity-investments/)\n",
    "\n",
    "It found that federal regulators have assessed $1.6 billion in penalties against traders, banks, utilities, power producers and grid operators for various violations since anti-manipulation laws were enacted by Congress in 2005. More than a third of the assessed penalties have been tied to California’s energy market."
   ]
  },
  {
   "cell_type": "markdown",
   "metadata": {},
   "source": [
    "## How we did it"
   ]
  },
  {
   "cell_type": "markdown",
   "metadata": {},
   "source": [
    "### Gather enforcement actions from the FERC website"
   ]
  },
  {
   "cell_type": "markdown",
   "metadata": {},
   "source": [
    "Run a seperate notebook that \"scrapes\" annual lists of civil penalty actions from the [FERC website](https://www.ferc.gov/enforcement/civil-penalties/civil-penalty-action.asp). It combines them into [a single comma-delimited file](https://github.com/datadesk/ferc-enforcement-analysis/blob/master/input/scraped-ferc-civil-penalties.csv)."
   ]
  },
  {
   "cell_type": "code",
   "execution_count": 91,
   "metadata": {},
   "outputs": [],
   "source": [
    "%%capture\n",
    "%run 01_scrape.ipynb"
   ]
  },
  {
   "cell_type": "markdown",
   "metadata": {},
   "source": [
    "### Research and refine source data"
   ]
  },
  {
   "cell_type": "markdown",
   "metadata": {},
   "source": [
    "The comma-delimited file was converted into [a Microsoft Excel spreadsheet](https://github.com/datadesk/ferc-enforcement-analysis/blob/master/output/scraped-ferc-civil-penalties.xlsx) and refined outside of this computer programming routine. Each penalty's subject and size was manually extracted. Duplicates were marked for removal. Cases related to California's market were identified and logged. "
   ]
  },
  {
   "cell_type": "markdown",
   "metadata": {},
   "source": [
    "The Times then submitted its work to officials at FERC's Office of Enforcement for review. Their response concurred with our results."
   ]
  },
  {
   "cell_type": "markdown",
   "metadata": {},
   "source": [
    "<img style=\"float: left;\" src=\"input/email.png\">"
   ]
  },
  {
   "cell_type": "markdown",
   "metadata": {},
   "source": [
    "### Import Python tools for analysis"
   ]
  },
  {
   "cell_type": "code",
   "execution_count": 92,
   "metadata": {},
   "outputs": [],
   "source": [
    "import random\n",
    "import squarify\n",
    "import pandas as pd\n",
    "import matplotlib\n",
    "import matplotlib.pyplot as plt"
   ]
  },
  {
   "cell_type": "code",
   "execution_count": 93,
   "metadata": {},
   "outputs": [],
   "source": [
    "import warnings\n",
    "warnings.simplefilter(\"ignore\")"
   ]
  },
  {
   "cell_type": "code",
   "execution_count": 94,
   "metadata": {},
   "outputs": [],
   "source": [
    "%matplotlib inline"
   ]
  },
  {
   "cell_type": "markdown",
   "metadata": {},
   "source": [
    "### Read in the cleaned data "
   ]
  },
  {
   "cell_type": "code",
   "execution_count": 95,
   "metadata": {},
   "outputs": [],
   "source": [
    "df = pd.read_excel(\"./output/scraped-ferc-civil-penalties.xlsx\")"
   ]
  },
  {
   "cell_type": "markdown",
   "metadata": {},
   "source": [
    "### How many penalties have been issued?"
   ]
  },
  {
   "cell_type": "markdown",
   "metadata": {},
   "source": [
    "Count the total number of records"
   ]
  },
  {
   "cell_type": "code",
   "execution_count": 96,
   "metadata": {},
   "outputs": [
    {
     "data": {
      "text/plain": [
       "133"
      ]
     },
     "execution_count": 96,
     "metadata": {},
     "output_type": "execute_result"
    }
   ],
   "source": [
    "len(df)"
   ]
  },
  {
   "cell_type": "markdown",
   "metadata": {},
   "source": [
    "Filter out the duplicates"
   ]
  },
  {
   "cell_type": "code",
   "execution_count": 97,
   "metadata": {},
   "outputs": [],
   "source": [
    "analysis_df = df[~(df.is_duplicate == 'y')]"
   ]
  },
  {
   "cell_type": "markdown",
   "metadata": {},
   "source": [
    "Count the \"real\" total of penalties"
   ]
  },
  {
   "cell_type": "code",
   "execution_count": 98,
   "metadata": {},
   "outputs": [
    {
     "data": {
      "text/plain": [
       "114"
      ]
     },
     "execution_count": 98,
     "metadata": {},
     "output_type": "execute_result"
    }
   ],
   "source": [
    "len(analysis_df)"
   ]
  },
  {
   "cell_type": "markdown",
   "metadata": {},
   "source": [
    "### What is the total penalty sum?"
   ]
  },
  {
   "cell_type": "code",
   "execution_count": 99,
   "metadata": {},
   "outputs": [
    {
     "data": {
      "text/plain": [
       "'1,613,984,835'"
      ]
     },
     "execution_count": 99,
     "metadata": {},
     "output_type": "execute_result"
    }
   ],
   "source": [
    "\"{:,.0f}\".format(analysis_df.clean_penalty.sum())"
   ]
  },
  {
   "cell_type": "markdown",
   "metadata": {},
   "source": [
    "### How have the count and sum varied over time?"
   ]
  },
  {
   "cell_type": "markdown",
   "metadata": {},
   "source": [
    "Group and calculate both totals"
   ]
  },
  {
   "cell_type": "code",
   "execution_count": 100,
   "metadata": {},
   "outputs": [],
   "source": [
    "annual_totals = analysis_df.groupby(\"raw_year\").agg(\n",
    "    dict(\n",
    "        raw_subject=\"count\",\n",
    "        clean_penalty=\"sum\"\n",
    "    )\n",
    ").reset_index()"
   ]
  },
  {
   "cell_type": "markdown",
   "metadata": {},
   "source": [
    "Clean up the headers"
   ]
  },
  {
   "cell_type": "code",
   "execution_count": 101,
   "metadata": {},
   "outputs": [],
   "source": [
    "annual_totals.columns = ['year', 'penalty_sum', 'penalty_count']"
   ]
  },
  {
   "cell_type": "markdown",
   "metadata": {},
   "source": [
    "Create a pair of charts"
   ]
  },
  {
   "cell_type": "code",
   "execution_count": 102,
   "metadata": {},
   "outputs": [
    {
     "data": {
      "text/plain": [
       "Text(0,0.5,u'Millions of dollars')"
      ]
     },
     "execution_count": 102,
     "metadata": {},
     "output_type": "execute_result"
    },
    {
     "data": {
      "image/png": "[encoded data removed]",
      "text/plain": [
       "<matplotlib.figure.Figure at 0x7fbbdda57bd0>"
      ]
     },
     "metadata": {},
     "output_type": "display_data"
    }
   ],
   "source": [
    "# Create the figure\n",
    "fig, axs = plt.subplots(1, 2, figsize=(15,8))\n",
    "\n",
    "# First counts\n",
    "annual_totals.set_index(\"year\").penalty_count.plot.bar(color=\"#99B1BE\", ax=axs[0], label=\"count\")\n",
    "ax1 = axs[0].set_title(\"Case count by year\")\n",
    "axs[0].set_ylabel(\"Count\")\n",
    "\n",
    "# Then totals\n",
    "(annual_totals.set_index(\"year\").penalty_sum / 1000000).plot.bar(color=\"#294F70\", ax=axs[1], label=\"sum\")\n",
    "axs[1].set_title(\"Penalty total by year\")\n",
    "axs[1].set_ylabel(\"Millions of dollars\")"
   ]
  },
  {
   "cell_type": "markdown",
   "metadata": {},
   "source": [
    "### What share of the penalties are connected to California?"
   ]
  },
  {
   "cell_type": "markdown",
   "metadata": {},
   "source": [
    "Filter down to those linked to California"
   ]
  },
  {
   "cell_type": "code",
   "execution_count": 103,
   "metadata": {},
   "outputs": [],
   "source": [
    "is_california = analysis_df[analysis_df.is_california == 'y']"
   ]
  },
  {
   "cell_type": "markdown",
   "metadata": {},
   "source": [
    "Count them"
   ]
  },
  {
   "cell_type": "code",
   "execution_count": 104,
   "metadata": {},
   "outputs": [
    {
     "data": {
      "text/plain": [
       "11"
      ]
     },
     "execution_count": 104,
     "metadata": {},
     "output_type": "execute_result"
    }
   ],
   "source": [
    "len(is_california)"
   ]
  },
  {
   "cell_type": "markdown",
   "metadata": {},
   "source": [
    "Calculate the percentage"
   ]
  },
  {
   "cell_type": "code",
   "execution_count": 105,
   "metadata": {},
   "outputs": [
    {
     "data": {
      "text/plain": [
       "'0.35%'"
      ]
     },
     "execution_count": 105,
     "metadata": {},
     "output_type": "execute_result"
    }
   ],
   "source": [
    "\"{:.2}%\".format(is_california.clean_penalty.sum() / analysis_df.clean_penalty.sum())"
   ]
  },
  {
   "cell_type": "markdown",
   "metadata": {},
   "source": [
    "### Visualize cases as a treemap"
   ]
  },
  {
   "cell_type": "markdown",
   "metadata": {},
   "source": [
    "Resort the data to cluster the california cases together and omit cases with no penalty"
   ]
  },
  {
   "cell_type": "code",
   "execution_count": 106,
   "metadata": {},
   "outputs": [],
   "source": [
    "treemap_df = analysis_df[analysis_df.clean_penalty > 0].sort_values(\n",
    "    [\"is_california\", \"clean_penalty\"],\n",
    "    ascending=[True, False]\n",
    ")"
   ]
  },
  {
   "cell_type": "markdown",
   "metadata": {},
   "source": [
    "Color in California penalties different from the rest."
   ]
  },
  {
   "cell_type": "code",
   "execution_count": 114,
   "metadata": {},
   "outputs": [],
   "source": [
    "def get_treemap_color(row):\n",
    "    \"\"\"\n",
    "    Returns a color value for the provided row.\n",
    "    \"\"\"\n",
    "    # A different color map for each group\n",
    "    cmap_dict = {\n",
    "        'y': matplotlib.cm.Blues,\n",
    "        'n': matplotlib.cm.Reds\n",
    "    }\n",
    "    \n",
    "    # The range of values in each set\n",
    "    df_dict = {\n",
    "        'y': treemap_df[treemap_df.is_california == row.is_california],\n",
    "        'n': treemap_df[treemap_df.is_california == row.is_california]\n",
    "    }\n",
    "    \n",
    "    # Pull out the color ramp for the provided value\n",
    "    cmap = cmap_dict[row.is_california]\n",
    "    \n",
    "    # Pull out the data range the provided value belongs with\n",
    "    df = df_dict[row.is_california]\n",
    "    \n",
    "    # Create a normalize to scale values within that range between 0 and 1.\n",
    "    normalizer = matplotlib.colors.Normalize(vmin=df.clean_penalty.min(), vmax=df.clean_penalty.max())\n",
    "    \n",
    "    # Normalize the provided value\n",
    "    normed_value = normalizer(row.clean_penalty)\n",
    "    \n",
    "    # Set a floor below which we will not let the scale go\n",
    "    if normed_value < 0.3:\n",
    "        # But give these a little twitch so we can tell them apart\n",
    "        # because the treemap library doesn't have a stroke between boxes\n",
    "        normed_value = random.choice(pd.np.arange(0.1, 0.3, 0.001))\n",
    "    \n",
    "    # Return the normed value's position on the color map\n",
    "    return cmap(normed_value)"
   ]
  },
  {
   "cell_type": "code",
   "execution_count": 115,
   "metadata": {},
   "outputs": [],
   "source": [
    "treemap_df['treemap_color'] = treemap_df.apply(get_treemap_color, axis=1)"
   ]
  },
  {
   "cell_type": "markdown",
   "metadata": {},
   "source": [
    "Only show labels for the bigger boxes where they will fit"
   ]
  },
  {
   "cell_type": "code",
   "execution_count": 116,
   "metadata": {},
   "outputs": [],
   "source": [
    "treemap_df['treemap_label'] = treemap_df.apply(\n",
    "    lambda x: x.clean_subject if x.clean_penalty > 7500000.0 else '',\n",
    "    axis=1\n",
    ")"
   ]
  },
  {
   "cell_type": "markdown",
   "metadata": {},
   "source": [
    "Plot the treemap"
   ]
  },
  {
   "cell_type": "code",
   "execution_count": 117,
   "metadata": {},
   "outputs": [
    {
     "data": {
      "image/png": "[encoded data removed]",
      "text/plain": [
       "<matplotlib.figure.Figure at 0x7fbbd7d499d0>"
      ]
     },
     "metadata": {},
     "output_type": "display_data"
    }
   ],
   "source": [
    "fig = plt.figure(figsize=(16, 9))\n",
    "squarify.plot(\n",
    "    sizes=treemap_df.clean_penalty,\n",
    "    color=treemap_df.treemap_color,\n",
    "    label=treemap_df.treemap_label,\n",
    "    alpha=.8\n",
    ")\n",
    "ax = plt.axis('off')"
   ]
  },
  {
   "cell_type": "markdown",
   "metadata": {},
   "source": [
    "### Write out a trimmed and cleaned list of cases ready for publication"
   ]
  },
  {
   "cell_type": "code",
   "execution_count": 111,
   "metadata": {},
   "outputs": [],
   "source": [
    "public_df = analysis_df[[\n",
    "    'raw_year',\n",
    "    'clean_subject',\n",
    "    'clean_penalty',\n",
    "    'is_california'\n",
    "]].sort_values(\n",
    "    [\"is_california\", \"clean_penalty\"],\n",
    "    ascending=[True, False]\n",
    ")"
   ]
  },
  {
   "cell_type": "code",
   "execution_count": 112,
   "metadata": {},
   "outputs": [],
   "source": [
    "public_df.columns = [\n",
    "    'Year',\n",
    "    'Subject',\n",
    "    'Penalty',\n",
    "    'Linked to Calif.'\n",
    "]"
   ]
  },
  {
   "cell_type": "code",
   "execution_count": 113,
   "metadata": {},
   "outputs": [],
   "source": [
    "public_df.to_csv(\n",
    "    \"./output/cleaned-ferc-civil-penalties.csv\",\n",
    "    index=False,\n",
    "    encoding=\"utf-8\"\n",
    ")"
   ]
  }
 ],
 "metadata": {
  "kernelspec": {
   "display_name": "Python 2",
   "language": "python",
   "name": "python2"
  },
  "language_info": {
   "codemirror_mode": {
    "name": "ipython",
    "version": 2
   },
   "file_extension": ".py",
   "mimetype": "text/x-python",
   "name": "python",
   "nbconvert_exporter": "python",
   "pygments_lexer": "ipython2",
   "version": "2.7.14"
  }
 },
 "nbformat": 4,
 "nbformat_minor": 2
}
